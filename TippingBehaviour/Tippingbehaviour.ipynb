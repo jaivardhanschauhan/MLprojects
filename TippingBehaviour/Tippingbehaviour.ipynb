{
 "cells": [
  {
   "cell_type": "code",
   "execution_count": 1,
   "id": "b109741a",
   "metadata": {},
   "outputs": [],
   "source": [
    "import pandas as pd\n",
    "from sklearn.model_selection import train_test_split\n",
    "from sklearn.tree import DecisionTreeClassifier\n",
    "from sklearn import tree\n",
    "from sklearn.metrics import accuracy_score,confusion_matrix"
   ]
  },
  {
   "cell_type": "code",
   "execution_count": 2,
   "id": "b88bd70b",
   "metadata": {},
   "outputs": [
    {
     "data": {
      "text/html": [
       "<div>\n",
       "<style scoped>\n",
       "    .dataframe tbody tr th:only-of-type {\n",
       "        vertical-align: middle;\n",
       "    }\n",
       "\n",
       "    .dataframe tbody tr th {\n",
       "        vertical-align: top;\n",
       "    }\n",
       "\n",
       "    .dataframe thead th {\n",
       "        text-align: right;\n",
       "    }\n",
       "</style>\n",
       "<table border=\"1\" class=\"dataframe\">\n",
       "  <thead>\n",
       "    <tr style=\"text-align: right;\">\n",
       "      <th></th>\n",
       "      <th>Tip</th>\n",
       "      <th>Ad</th>\n",
       "      <th>Joke</th>\n",
       "      <th>None</th>\n",
       "    </tr>\n",
       "  </thead>\n",
       "  <tbody>\n",
       "    <tr>\n",
       "      <th>0</th>\n",
       "      <td>1</td>\n",
       "      <td>0</td>\n",
       "      <td>0</td>\n",
       "      <td>1</td>\n",
       "    </tr>\n",
       "    <tr>\n",
       "      <th>1</th>\n",
       "      <td>1</td>\n",
       "      <td>0</td>\n",
       "      <td>1</td>\n",
       "      <td>0</td>\n",
       "    </tr>\n",
       "    <tr>\n",
       "      <th>2</th>\n",
       "      <td>0</td>\n",
       "      <td>1</td>\n",
       "      <td>0</td>\n",
       "      <td>0</td>\n",
       "    </tr>\n",
       "    <tr>\n",
       "      <th>3</th>\n",
       "      <td>0</td>\n",
       "      <td>0</td>\n",
       "      <td>0</td>\n",
       "      <td>1</td>\n",
       "    </tr>\n",
       "    <tr>\n",
       "      <th>4</th>\n",
       "      <td>1</td>\n",
       "      <td>0</td>\n",
       "      <td>0</td>\n",
       "      <td>1</td>\n",
       "    </tr>\n",
       "    <tr>\n",
       "      <th>...</th>\n",
       "      <td>...</td>\n",
       "      <td>...</td>\n",
       "      <td>...</td>\n",
       "      <td>...</td>\n",
       "    </tr>\n",
       "    <tr>\n",
       "      <th>206</th>\n",
       "      <td>0</td>\n",
       "      <td>1</td>\n",
       "      <td>0</td>\n",
       "      <td>0</td>\n",
       "    </tr>\n",
       "    <tr>\n",
       "      <th>207</th>\n",
       "      <td>0</td>\n",
       "      <td>0</td>\n",
       "      <td>1</td>\n",
       "      <td>0</td>\n",
       "    </tr>\n",
       "    <tr>\n",
       "      <th>208</th>\n",
       "      <td>0</td>\n",
       "      <td>1</td>\n",
       "      <td>0</td>\n",
       "      <td>0</td>\n",
       "    </tr>\n",
       "    <tr>\n",
       "      <th>209</th>\n",
       "      <td>0</td>\n",
       "      <td>0</td>\n",
       "      <td>1</td>\n",
       "      <td>0</td>\n",
       "    </tr>\n",
       "    <tr>\n",
       "      <th>210</th>\n",
       "      <td>0</td>\n",
       "      <td>0</td>\n",
       "      <td>0</td>\n",
       "      <td>1</td>\n",
       "    </tr>\n",
       "  </tbody>\n",
       "</table>\n",
       "<p>211 rows × 4 columns</p>\n",
       "</div>"
      ],
      "text/plain": [
       "     Tip  Ad  Joke  None\n",
       "0      1   0     0     1\n",
       "1      1   0     1     0\n",
       "2      0   1     0     0\n",
       "3      0   0     0     1\n",
       "4      1   0     0     1\n",
       "..   ...  ..   ...   ...\n",
       "206    0   1     0     0\n",
       "207    0   0     1     0\n",
       "208    0   1     0     0\n",
       "209    0   0     1     0\n",
       "210    0   0     0     1\n",
       "\n",
       "[211 rows x 4 columns]"
      ]
     },
     "execution_count": 2,
     "metadata": {},
     "output_type": "execute_result"
    }
   ],
   "source": [
    "df = pd.read_csv('TipJoke')\n",
    "df = df.drop('Unnamed: 0', axis=1)\n",
    "df = df.drop('Card', axis=1)\n",
    "df"
   ]
  },
  {
   "cell_type": "code",
   "execution_count": 3,
   "id": "381db683",
   "metadata": {},
   "outputs": [],
   "source": [
    "X = df.drop(columns='Tip')\n",
    "y = df['Tip']\n",
    "X_train,X_test,y_train,y_test = train_test_split(X,y,test_size=0.3)"
   ]
  },
  {
   "cell_type": "code",
   "execution_count": 4,
   "id": "dec5cd59",
   "metadata": {},
   "outputs": [
    {
     "name": "stdout",
     "output_type": "stream",
     "text": [
      "0.765625\n",
      "[[49  0]\n",
      " [15  0]]\n"
     ]
    }
   ],
   "source": [
    "dtree = DecisionTreeClassifier()\n",
    "dtree.fit(X_train,y_train)\n",
    "predictions = dtree.predict(X_test)\n",
    "print(accuracy_score(y_test, predictions))\n",
    "print(confusion_matrix(y_test, predictions))"
   ]
  },
  {
   "cell_type": "code",
   "execution_count": 5,
   "id": "1a7f9052",
   "metadata": {},
   "outputs": [
    {
     "data": {
      "text/plain": [
       "'tip_dt.png'"
      ]
     },
     "execution_count": 5,
     "metadata": {},
     "output_type": "execute_result"
    }
   ],
   "source": [
    "import graphviz\n",
    "dot_data = tree.export_graphviz(dtree,out_file=None,feature_names=('Ad','Joke','None'),\n",
    "                                class_names=('0','1'),\n",
    "                                filled=True)\n",
    "graph = graphviz.Source(dot_data, format=\"png\")\n",
    "graph.render('tip_dt',view=True)"
   ]
  },
  {
   "cell_type": "code",
   "execution_count": 6,
   "id": "f8261f0b",
   "metadata": {},
   "outputs": [
    {
     "data": {
      "image/svg+xml": [
       "<?xml version=\"1.0\" encoding=\"UTF-8\" standalone=\"no\"?>\n",
       "<!DOCTYPE svg PUBLIC \"-//W3C//DTD SVG 1.1//EN\"\n",
       " \"http://www.w3.org/Graphics/SVG/1.1/DTD/svg11.dtd\">\n",
       "<!-- Generated by graphviz version 9.0.0 (20230911.1827)\n",
       " -->\n",
       "<!-- Title: Tree Pages: 1 -->\n",
       "<svg width=\"305pt\" height=\"314pt\"\n",
       " viewBox=\"0.00 0.00 305.00 314.00\" xmlns=\"http://www.w3.org/2000/svg\" xmlns:xlink=\"http://www.w3.org/1999/xlink\">\n",
       "<g id=\"graph0\" class=\"graph\" transform=\"scale(1 1) rotate(0) translate(4 310)\">\n",
       "<title>Tree</title>\n",
       "<polygon fill=\"white\" stroke=\"none\" points=\"-4,4 -4,-310 301,-310 301,4 -4,4\"/>\n",
       "<!-- 0 -->\n",
       "<g id=\"node1\" class=\"node\">\n",
       "<title>0</title>\n",
       "<polygon fill=\"#f0b990\" stroke=\"black\" points=\"236.75,-306 120.25,-306 120.25,-223 236.75,-223 236.75,-306\"/>\n",
       "<text text-anchor=\"middle\" x=\"178.5\" y=\"-288.7\" font-family=\"Helvetica,sans-Serif\" font-size=\"14.00\">Joke &lt;= 0.5</text>\n",
       "<text text-anchor=\"middle\" x=\"178.5\" y=\"-273.7\" font-family=\"Helvetica,sans-Serif\" font-size=\"14.00\">gini = 0.425</text>\n",
       "<text text-anchor=\"middle\" x=\"178.5\" y=\"-258.7\" font-family=\"Helvetica,sans-Serif\" font-size=\"14.00\">samples = 147</text>\n",
       "<text text-anchor=\"middle\" x=\"178.5\" y=\"-243.7\" font-family=\"Helvetica,sans-Serif\" font-size=\"14.00\">value = [102, 45]</text>\n",
       "<text text-anchor=\"middle\" x=\"178.5\" y=\"-228.7\" font-family=\"Helvetica,sans-Serif\" font-size=\"14.00\">class = 0</text>\n",
       "</g>\n",
       "<!-- 1 -->\n",
       "<g id=\"node2\" class=\"node\">\n",
       "<title>1</title>\n",
       "<polygon fill=\"#eca36f\" stroke=\"black\" points=\"170,-187 61,-187 61,-104 170,-104 170,-187\"/>\n",
       "<text text-anchor=\"middle\" x=\"115.5\" y=\"-169.7\" font-family=\"Helvetica,sans-Serif\" font-size=\"14.00\">Ad &lt;= 0.5</text>\n",
       "<text text-anchor=\"middle\" x=\"115.5\" y=\"-154.7\" font-family=\"Helvetica,sans-Serif\" font-size=\"14.00\">gini = 0.335</text>\n",
       "<text text-anchor=\"middle\" x=\"115.5\" y=\"-139.7\" font-family=\"Helvetica,sans-Serif\" font-size=\"14.00\">samples = 94</text>\n",
       "<text text-anchor=\"middle\" x=\"115.5\" y=\"-124.7\" font-family=\"Helvetica,sans-Serif\" font-size=\"14.00\">value = [74, 20]</text>\n",
       "<text text-anchor=\"middle\" x=\"115.5\" y=\"-109.7\" font-family=\"Helvetica,sans-Serif\" font-size=\"14.00\">class = 0</text>\n",
       "</g>\n",
       "<!-- 0&#45;&gt;1 -->\n",
       "<g id=\"edge1\" class=\"edge\">\n",
       "<title>0&#45;&gt;1</title>\n",
       "<path fill=\"none\" stroke=\"black\" d=\"M156.47,-222.58C152.08,-214.43 147.42,-205.77 142.87,-197.34\"/>\n",
       "<polygon fill=\"black\" stroke=\"black\" points=\"145.96,-195.68 138.13,-188.53 139.79,-199 145.96,-195.68\"/>\n",
       "<text text-anchor=\"middle\" x=\"130.23\" y=\"-205.35\" font-family=\"Helvetica,sans-Serif\" font-size=\"14.00\">True</text>\n",
       "</g>\n",
       "<!-- 4 -->\n",
       "<g id=\"node5\" class=\"node\">\n",
       "<title>4</title>\n",
       "<polygon fill=\"#fcf2ea\" stroke=\"black\" points=\"297,-179.5 188,-179.5 188,-111.5 297,-111.5 297,-179.5\"/>\n",
       "<text text-anchor=\"middle\" x=\"242.5\" y=\"-162.2\" font-family=\"Helvetica,sans-Serif\" font-size=\"14.00\">gini = 0.498</text>\n",
       "<text text-anchor=\"middle\" x=\"242.5\" y=\"-147.2\" font-family=\"Helvetica,sans-Serif\" font-size=\"14.00\">samples = 53</text>\n",
       "<text text-anchor=\"middle\" x=\"242.5\" y=\"-132.2\" font-family=\"Helvetica,sans-Serif\" font-size=\"14.00\">value = [28, 25]</text>\n",
       "<text text-anchor=\"middle\" x=\"242.5\" y=\"-117.2\" font-family=\"Helvetica,sans-Serif\" font-size=\"14.00\">class = 0</text>\n",
       "</g>\n",
       "<!-- 0&#45;&gt;4 -->\n",
       "<g id=\"edge4\" class=\"edge\">\n",
       "<title>0&#45;&gt;4</title>\n",
       "<path fill=\"none\" stroke=\"black\" d=\"M200.88,-222.58C206.68,-211.99 212.93,-200.56 218.79,-189.85\"/>\n",
       "<polygon fill=\"black\" stroke=\"black\" points=\"221.8,-191.64 223.52,-181.19 215.66,-188.28 221.8,-191.64\"/>\n",
       "<text text-anchor=\"middle\" x=\"231.28\" y=\"-198.05\" font-family=\"Helvetica,sans-Serif\" font-size=\"14.00\">False</text>\n",
       "</g>\n",
       "<!-- 2 -->\n",
       "<g id=\"node3\" class=\"node\">\n",
       "<title>2</title>\n",
       "<polygon fill=\"#eeac7d\" stroke=\"black\" points=\"109,-68 0,-68 0,0 109,0 109,-68\"/>\n",
       "<text text-anchor=\"middle\" x=\"54.5\" y=\"-50.7\" font-family=\"Helvetica,sans-Serif\" font-size=\"14.00\">gini = 0.38</text>\n",
       "<text text-anchor=\"middle\" x=\"54.5\" y=\"-35.7\" font-family=\"Helvetica,sans-Serif\" font-size=\"14.00\">samples = 47</text>\n",
       "<text text-anchor=\"middle\" x=\"54.5\" y=\"-20.7\" font-family=\"Helvetica,sans-Serif\" font-size=\"14.00\">value = [35, 12]</text>\n",
       "<text text-anchor=\"middle\" x=\"54.5\" y=\"-5.7\" font-family=\"Helvetica,sans-Serif\" font-size=\"14.00\">class = 0</text>\n",
       "</g>\n",
       "<!-- 1&#45;&gt;2 -->\n",
       "<g id=\"edge2\" class=\"edge\">\n",
       "<title>1&#45;&gt;2</title>\n",
       "<path fill=\"none\" stroke=\"black\" d=\"M92.79,-103.73C88.16,-95.43 83.28,-86.67 78.61,-78.28\"/>\n",
       "<polygon fill=\"black\" stroke=\"black\" points=\"81.71,-76.65 73.79,-69.62 75.6,-80.06 81.71,-76.65\"/>\n",
       "</g>\n",
       "<!-- 3 -->\n",
       "<g id=\"node4\" class=\"node\">\n",
       "<title>3</title>\n",
       "<polygon fill=\"#ea9b62\" stroke=\"black\" points=\"228.25,-68 126.75,-68 126.75,0 228.25,0 228.25,-68\"/>\n",
       "<text text-anchor=\"middle\" x=\"177.5\" y=\"-50.7\" font-family=\"Helvetica,sans-Serif\" font-size=\"14.00\">gini = 0.282</text>\n",
       "<text text-anchor=\"middle\" x=\"177.5\" y=\"-35.7\" font-family=\"Helvetica,sans-Serif\" font-size=\"14.00\">samples = 47</text>\n",
       "<text text-anchor=\"middle\" x=\"177.5\" y=\"-20.7\" font-family=\"Helvetica,sans-Serif\" font-size=\"14.00\">value = [39, 8]</text>\n",
       "<text text-anchor=\"middle\" x=\"177.5\" y=\"-5.7\" font-family=\"Helvetica,sans-Serif\" font-size=\"14.00\">class = 0</text>\n",
       "</g>\n",
       "<!-- 1&#45;&gt;3 -->\n",
       "<g id=\"edge3\" class=\"edge\">\n",
       "<title>1&#45;&gt;3</title>\n",
       "<path fill=\"none\" stroke=\"black\" d=\"M138.59,-103.73C143.29,-95.43 148.25,-86.67 152.99,-78.28\"/>\n",
       "<polygon fill=\"black\" stroke=\"black\" points=\"156.02,-80.04 157.9,-69.62 149.93,-76.59 156.02,-80.04\"/>\n",
       "</g>\n",
       "</g>\n",
       "</svg>\n"
      ],
      "text/plain": [
       "<graphviz.sources.Source at 0x7ff3a939dcd0>"
      ]
     },
     "execution_count": 6,
     "metadata": {},
     "output_type": "execute_result"
    }
   ],
   "source": [
    "with open(\"tip_dt\") as f:\n",
    "  dot_graph = f.read()\n",
    "graphviz.Source(dot_graph)"
   ]
  },
  {
   "cell_type": "code",
   "execution_count": 7,
   "id": "997ca455",
   "metadata": {},
   "outputs": [
    {
     "name": "stdout",
     "output_type": "stream",
     "text": [
      "|--- feature_1 <= 0.50\n",
      "|   |--- feature_0 <= 0.50\n",
      "|   |   |--- class: 0\n",
      "|   |--- feature_0 >  0.50\n",
      "|   |   |--- class: 0\n",
      "|--- feature_1 >  0.50\n",
      "|   |--- class: 0\n",
      "\n"
     ]
    }
   ],
   "source": [
    "text_representation = tree.export_text(dtree)\n",
    "print(text_representation)"
   ]
  },
  {
   "cell_type": "markdown",
   "id": "5eb3b3ea",
   "metadata": {},
   "source": [
    "**Analysis**: We built a decision tree with ~76.5% accuracy on the test data. In a nutshell, our model provides 49 correct predictions for no-tip situations. However, 19 times it classifies an actual tip as no tip. Overall, our decision tree is best depicted and explained by the graphical representation shown above, using graphviz library. \n",
    "\n",
    "Let's take 3 situations to run through the decision tree and see how our model works:\n",
    "\n",
    "1. **Advertisement**: When the waiter shows an advertisement, Joke = 0 and we proceed to the left node and because Ad = 1, we branch out to the right leaf and predict class as 0 or no tip.\n",
    "\n",
    "2. **Joke**: If the waiter shares a joke on the card, we immediately conclude that the class is zero or there is no tip since J = 1 and our first condition is false. It also means that as per our model, telling a joke doesn't help the waiter's case of getting a tip!\n",
    "\n",
    "3. **None**: When the waiter doesn't share any card, we branch out to the left node and arrive at the left leaf to predict class as 0 or no tip. Unfortunately for the waiter, our model still predicts no tip!"
   ]
  }
 ],
 "metadata": {
  "kernelspec": {
   "display_name": "Python 3 (ipykernel)",
   "language": "python",
   "name": "python3"
  },
  "language_info": {
   "codemirror_mode": {
    "name": "ipython",
    "version": 3
   },
   "file_extension": ".py",
   "mimetype": "text/x-python",
   "name": "python",
   "nbconvert_exporter": "python",
   "pygments_lexer": "ipython3",
   "version": "3.9.12"
  }
 },
 "nbformat": 4,
 "nbformat_minor": 5
}
