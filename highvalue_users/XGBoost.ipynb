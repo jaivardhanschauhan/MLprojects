{
 "cells": [
  {
   "cell_type": "code",
   "execution_count": 1,
   "id": "cace6180",
   "metadata": {},
   "outputs": [
    {
     "data": {
      "text/html": [
       "<div>\n",
       "<style scoped>\n",
       "    .dataframe tbody tr th:only-of-type {\n",
       "        vertical-align: middle;\n",
       "    }\n",
       "\n",
       "    .dataframe tbody tr th {\n",
       "        vertical-align: top;\n",
       "    }\n",
       "\n",
       "    .dataframe thead th {\n",
       "        text-align: right;\n",
       "    }\n",
       "</style>\n",
       "<table border=\"1\" class=\"dataframe\">\n",
       "  <thead>\n",
       "    <tr style=\"text-align: right;\">\n",
       "      <th></th>\n",
       "      <th>hour_of_day</th>\n",
       "      <th>day_of_week</th>\n",
       "      <th>inventory_source</th>\n",
       "      <th>app_category</th>\n",
       "      <th>device_type</th>\n",
       "      <th>os</th>\n",
       "      <th>age</th>\n",
       "      <th>gender</th>\n",
       "      <th>time_engaged</th>\n",
       "      <th>ad_format</th>\n",
       "      <th>session_duration</th>\n",
       "      <th>ads_seen_in_session</th>\n",
       "      <th>past_click_rate</th>\n",
       "      <th>days_since_last_click</th>\n",
       "      <th>avg_watch_time_per_ad</th>\n",
       "      <th>high_value_user</th>\n",
       "    </tr>\n",
       "  </thead>\n",
       "  <tbody>\n",
       "    <tr>\n",
       "      <th>0</th>\n",
       "      <td>3</td>\n",
       "      <td>4</td>\n",
       "      <td>open_exchange</td>\n",
       "      <td>entertainment</td>\n",
       "      <td>mobile</td>\n",
       "      <td>Android</td>\n",
       "      <td>25</td>\n",
       "      <td>1</td>\n",
       "      <td>122.4</td>\n",
       "      <td>banner</td>\n",
       "      <td>318.5</td>\n",
       "      <td>4</td>\n",
       "      <td>0.06</td>\n",
       "      <td>15</td>\n",
       "      <td>37.0</td>\n",
       "      <td>0</td>\n",
       "    </tr>\n",
       "    <tr>\n",
       "      <th>1</th>\n",
       "      <td>18</td>\n",
       "      <td>6</td>\n",
       "      <td>direct</td>\n",
       "      <td>news</td>\n",
       "      <td>desktop</td>\n",
       "      <td>Android</td>\n",
       "      <td>18</td>\n",
       "      <td>1</td>\n",
       "      <td>8.3</td>\n",
       "      <td>banner</td>\n",
       "      <td>473.8</td>\n",
       "      <td>2</td>\n",
       "      <td>0.13</td>\n",
       "      <td>6</td>\n",
       "      <td>31.8</td>\n",
       "      <td>0</td>\n",
       "    </tr>\n",
       "    <tr>\n",
       "      <th>2</th>\n",
       "      <td>9</td>\n",
       "      <td>5</td>\n",
       "      <td>open_exchange</td>\n",
       "      <td>social</td>\n",
       "      <td>desktop</td>\n",
       "      <td>Android</td>\n",
       "      <td>28</td>\n",
       "      <td>0</td>\n",
       "      <td>18.2</td>\n",
       "      <td>native</td>\n",
       "      <td>351.4</td>\n",
       "      <td>4</td>\n",
       "      <td>0.25</td>\n",
       "      <td>9</td>\n",
       "      <td>40.1</td>\n",
       "      <td>0</td>\n",
       "    </tr>\n",
       "    <tr>\n",
       "      <th>3</th>\n",
       "      <td>6</td>\n",
       "      <td>2</td>\n",
       "      <td>open_exchange</td>\n",
       "      <td>social</td>\n",
       "      <td>mobile</td>\n",
       "      <td>iOS</td>\n",
       "      <td>37</td>\n",
       "      <td>1</td>\n",
       "      <td>147.5</td>\n",
       "      <td>video</td>\n",
       "      <td>322.0</td>\n",
       "      <td>7</td>\n",
       "      <td>0.03</td>\n",
       "      <td>11</td>\n",
       "      <td>44.2</td>\n",
       "      <td>0</td>\n",
       "    </tr>\n",
       "    <tr>\n",
       "      <th>4</th>\n",
       "      <td>18</td>\n",
       "      <td>6</td>\n",
       "      <td>private_marketplace</td>\n",
       "      <td>games</td>\n",
       "      <td>tablet</td>\n",
       "      <td>Windows</td>\n",
       "      <td>28</td>\n",
       "      <td>1</td>\n",
       "      <td>156.0</td>\n",
       "      <td>native</td>\n",
       "      <td>176.9</td>\n",
       "      <td>10</td>\n",
       "      <td>0.16</td>\n",
       "      <td>2</td>\n",
       "      <td>40.3</td>\n",
       "      <td>0</td>\n",
       "    </tr>\n",
       "  </tbody>\n",
       "</table>\n",
       "</div>"
      ],
      "text/plain": [
       "   hour_of_day  day_of_week     inventory_source   app_category device_type  \\\n",
       "0            3            4        open_exchange  entertainment      mobile   \n",
       "1           18            6               direct           news     desktop   \n",
       "2            9            5        open_exchange         social     desktop   \n",
       "3            6            2        open_exchange         social      mobile   \n",
       "4           18            6  private_marketplace          games      tablet   \n",
       "\n",
       "        os  age  gender  time_engaged ad_format  session_duration  \\\n",
       "0  Android   25       1         122.4    banner             318.5   \n",
       "1  Android   18       1           8.3    banner             473.8   \n",
       "2  Android   28       0          18.2    native             351.4   \n",
       "3      iOS   37       1         147.5     video             322.0   \n",
       "4  Windows   28       1         156.0    native             176.9   \n",
       "\n",
       "   ads_seen_in_session  past_click_rate  days_since_last_click  \\\n",
       "0                    4             0.06                     15   \n",
       "1                    2             0.13                      6   \n",
       "2                    4             0.25                      9   \n",
       "3                    7             0.03                     11   \n",
       "4                   10             0.16                      2   \n",
       "\n",
       "   avg_watch_time_per_ad  high_value_user  \n",
       "0                   37.0                0  \n",
       "1                   31.8                0  \n",
       "2                   40.1                0  \n",
       "3                   44.2                0  \n",
       "4                   40.3                0  "
      ]
     },
     "execution_count": 1,
     "metadata": {},
     "output_type": "execute_result"
    }
   ],
   "source": [
    "import pandas as pd\n",
    "df = pd.read_csv(\"Dummy_Advertising_Dataset__250K_rows_.csv\")\n",
    "df.head() "
   ]
  },
  {
   "cell_type": "code",
   "execution_count": 21,
   "id": "75afa74f",
   "metadata": {},
   "outputs": [
    {
     "data": {
      "text/plain": [
       "hour_of_day                               int64\n",
       "day_of_week                               int64\n",
       "age                                       int64\n",
       "time_engaged                            float64\n",
       "session_duration                        float64\n",
       "ads_seen_in_session                       int64\n",
       "past_click_rate                         float64\n",
       "days_since_last_click                     int64\n",
       "avg_watch_time_per_ad                   float64\n",
       "inventory_source_direct                   uint8\n",
       "inventory_source_open_exchange            uint8\n",
       "inventory_source_private_marketplace      uint8\n",
       "app_category_entertainment                uint8\n",
       "app_category_games                        uint8\n",
       "app_category_news                         uint8\n",
       "app_category_social                       uint8\n",
       "device_type_desktop                       uint8\n",
       "device_type_mobile                        uint8\n",
       "device_type_tablet                        uint8\n",
       "os_Android                                uint8\n",
       "os_Windows                                uint8\n",
       "os_iOS                                    uint8\n",
       "gender_0                                  uint8\n",
       "gender_1                                  uint8\n",
       "ad_format_banner                          uint8\n",
       "ad_format_native                          uint8\n",
       "ad_format_video                           uint8\n",
       "high_value_user_1                         uint8\n",
       "dtype: object"
      ]
     },
     "execution_count": 21,
     "metadata": {},
     "output_type": "execute_result"
    }
   ],
   "source": [
    "df.dtypes"
   ]
  },
  {
   "cell_type": "code",
   "execution_count": 3,
   "id": "91fdd80e",
   "metadata": {},
   "outputs": [
    {
     "data": {
      "text/plain": [
       "<bound method DataFrame.info of         hour_of_day  day_of_week     inventory_source   app_category  \\\n",
       "0                 3            4        open_exchange  entertainment   \n",
       "1                18            6               direct           news   \n",
       "2                 9            5        open_exchange         social   \n",
       "3                 6            2        open_exchange         social   \n",
       "4                18            6  private_marketplace          games   \n",
       "...             ...          ...                  ...            ...   \n",
       "249995           11            1  private_marketplace         social   \n",
       "249996            9            6               direct  entertainment   \n",
       "249997           16            4  private_marketplace           news   \n",
       "249998            0            3        open_exchange           news   \n",
       "249999           10            4        open_exchange           news   \n",
       "\n",
       "       device_type       os  age  gender  time_engaged ad_format  \\\n",
       "0           mobile  Android   25       1         122.4    banner   \n",
       "1          desktop  Android   18       1           8.3    banner   \n",
       "2          desktop  Android   28       0          18.2    native   \n",
       "3           mobile      iOS   37       1         147.5     video   \n",
       "4           tablet  Windows   28       1         156.0    native   \n",
       "...            ...      ...  ...     ...           ...       ...   \n",
       "249995     desktop      iOS   59       0          10.7    native   \n",
       "249996      tablet  Android   38       1          14.4    native   \n",
       "249997      tablet  Android   54       0          96.1    native   \n",
       "249998      tablet  Android   35       1          18.5    banner   \n",
       "249999      tablet  Windows   28       0          88.3     video   \n",
       "\n",
       "        session_duration  ads_seen_in_session  past_click_rate  \\\n",
       "0                  318.5                    4             0.06   \n",
       "1                  473.8                    2             0.13   \n",
       "2                  351.4                    4             0.25   \n",
       "3                  322.0                    7             0.03   \n",
       "4                  176.9                   10             0.16   \n",
       "...                  ...                  ...              ...   \n",
       "249995             190.5                    5             0.35   \n",
       "249996             306.7                    5             0.35   \n",
       "249997             127.3                    4             0.32   \n",
       "249998             361.2                    9             0.13   \n",
       "249999             311.6                    2             0.61   \n",
       "\n",
       "        days_since_last_click  avg_watch_time_per_ad  high_value_user  \n",
       "0                          15                   37.0                0  \n",
       "1                           6                   31.8                0  \n",
       "2                           9                   40.1                0  \n",
       "3                          11                   44.2                0  \n",
       "4                           2                   40.3                0  \n",
       "...                       ...                    ...              ...  \n",
       "249995                     20                   25.1                0  \n",
       "249996                     24                   30.3                0  \n",
       "249997                     18                   49.5                0  \n",
       "249998                     11                   30.2                0  \n",
       "249999                     27                   44.4                0  \n",
       "\n",
       "[250000 rows x 16 columns]>"
      ]
     },
     "execution_count": 3,
     "metadata": {},
     "output_type": "execute_result"
    }
   ],
   "source": [
    "df.info"
   ]
  },
  {
   "cell_type": "code",
   "execution_count": 4,
   "id": "03a23ccb",
   "metadata": {},
   "outputs": [],
   "source": [
    "# good practice but XGboost and other tree based models do not care about distance \n",
    "# best possible splits \n",
    "df['high_value_user'] = df['high_value_user'].astype('category')\n",
    "df['gender'] = df['gender'].astype('category')"
   ]
  },
  {
   "cell_type": "code",
   "execution_count": 5,
   "id": "e6fca881",
   "metadata": {},
   "outputs": [],
   "source": [
    "df = pd.get_dummies(df)"
   ]
  },
  {
   "cell_type": "code",
   "execution_count": 6,
   "id": "953d8cab",
   "metadata": {},
   "outputs": [
    {
     "data": {
      "text/plain": [
       "Index(['hour_of_day', 'day_of_week', 'age', 'time_engaged', 'session_duration',\n",
       "       'ads_seen_in_session', 'past_click_rate', 'days_since_last_click',\n",
       "       'avg_watch_time_per_ad', 'inventory_source_direct',\n",
       "       'inventory_source_open_exchange',\n",
       "       'inventory_source_private_marketplace', 'app_category_entertainment',\n",
       "       'app_category_games', 'app_category_news', 'app_category_social',\n",
       "       'device_type_desktop', 'device_type_mobile', 'device_type_tablet',\n",
       "       'os_Android', 'os_Windows', 'os_iOS', 'gender_0', 'gender_1',\n",
       "       'ad_format_banner', 'ad_format_native', 'ad_format_video',\n",
       "       'high_value_user_0', 'high_value_user_1'],\n",
       "      dtype='object')"
      ]
     },
     "execution_count": 6,
     "metadata": {},
     "output_type": "execute_result"
    }
   ],
   "source": [
    "df.columns"
   ]
  },
  {
   "cell_type": "code",
   "execution_count": 7,
   "id": "565ba8ca",
   "metadata": {},
   "outputs": [],
   "source": [
    "df = df.drop(\"high_value_user_0\", axis = 1)"
   ]
  },
  {
   "cell_type": "code",
   "execution_count": 8,
   "id": "82bcb4c9",
   "metadata": {},
   "outputs": [],
   "source": [
    "X = df.iloc[:,:-1]\n",
    "y = df.iloc[:,-1]"
   ]
  },
  {
   "cell_type": "code",
   "execution_count": 9,
   "id": "e2a3a91a",
   "metadata": {},
   "outputs": [],
   "source": [
    "from sklearn.model_selection import train_test_split\n",
    "X_train_full, X_test, y_train_full, y_test=train_test_split(X,y,random_state=0)"
   ]
  },
  {
   "cell_type": "code",
   "execution_count": 10,
   "id": "a9e34860",
   "metadata": {},
   "outputs": [],
   "source": [
    "X_train, X_val, y_train, y_val=train_test_split(X_train_full, y_train_full, random_state=0)"
   ]
  },
  {
   "cell_type": "code",
   "execution_count": 11,
   "id": "2b60ced6",
   "metadata": {},
   "outputs": [
    {
     "name": "stdout",
     "output_type": "stream",
     "text": [
      "Requirement already satisfied: xgboost in ./opt/anaconda3/lib/python3.9/site-packages (2.1.4)\n",
      "Requirement already satisfied: numpy in ./opt/anaconda3/lib/python3.9/site-packages (from xgboost) (1.22.0)\n",
      "Requirement already satisfied: scipy in ./opt/anaconda3/lib/python3.9/site-packages (from xgboost) (1.7.3)\n"
     ]
    }
   ],
   "source": [
    "!pip install xgboost"
   ]
  },
  {
   "cell_type": "code",
   "execution_count": 12,
   "id": "cc6540cf",
   "metadata": {},
   "outputs": [],
   "source": [
    "from xgboost import XGBClassifier\n",
    "xgb_clf = XGBClassifier(n_estimators = 250,\n",
    "                        learning_rate = 0.01,\n",
    "                        eval_metric = \"auc\",\n",
    "                        early_stopping_rounds = 5,\n",
    "                        n_jobs = -1)"
   ]
  },
  {
   "cell_type": "code",
   "execution_count": 13,
   "id": "1184a7e7",
   "metadata": {},
   "outputs": [
    {
     "data": {
      "text/plain": [
       "XGBClassifier(base_score=None, booster=None, callbacks=None,\n",
       "              colsample_bylevel=None, colsample_bynode=None,\n",
       "              colsample_bytree=None, device=None, early_stopping_rounds=5,\n",
       "              enable_categorical=False, eval_metric='auc', feature_types=None,\n",
       "              gamma=None, grow_policy=None, importance_type=None,\n",
       "              interaction_constraints=None, learning_rate=0.01, max_bin=None,\n",
       "              max_cat_threshold=None, max_cat_to_onehot=None,\n",
       "              max_delta_step=None, max_depth=None, max_leaves=None,\n",
       "              min_child_weight=None, missing=nan, monotone_constraints=None,\n",
       "              multi_strategy=None, n_estimators=250, n_jobs=-1,\n",
       "              num_parallel_tree=None, random_state=None, ...)"
      ]
     },
     "execution_count": 13,
     "metadata": {},
     "output_type": "execute_result"
    }
   ],
   "source": [
    "xgb_clf.fit(X_train, y_train,                    \n",
    "            eval_set = [(X_val,y_val)],\n",
    "            verbose = False)"
   ]
  },
  {
   "cell_type": "code",
   "execution_count": 14,
   "id": "d91b0ae9",
   "metadata": {},
   "outputs": [
    {
     "data": {
      "image/png": "[encoded data removed]",
      "text/plain": [
       "<Figure size 432x288 with 1 Axes>"
      ]
     },
     "metadata": {
      "needs_background": "light"
     },
     "output_type": "display_data"
    }
   ],
   "source": [
    "from sklearn.metrics import roc_curve, auc\n",
    "import matplotlib.pyplot as plt\n",
    "\n",
    "# 1. Get predicted probabilities (for class 1)\n",
    "y_probs = xgb_clf.predict_proba(X_val)[:, 1]\n",
    "\n",
    "# 2. Get FPR, TPR, thresholds\n",
    "fpr, tpr, thresholds = roc_curve(y_val, y_probs)\n",
    "\n",
    "# 3. Calculate AUC\n",
    "roc_auc = auc(fpr, tpr)\n",
    "\n",
    "# 4. Plot\n",
    "plt.figure()\n",
    "plt.plot(fpr, tpr, label=f'ROC curve (AUC = {roc_auc:.2f})')\n",
    "plt.plot([0, 1], [0, 1], linestyle='--', color='gray')  # random baseline\n",
    "plt.xlabel('False Positive Rate')\n",
    "plt.ylabel('True Positive Rate')\n",
    "plt.title('ROC Curve')\n",
    "plt.legend(loc='lower right')\n",
    "plt.grid(True)\n",
    "plt.show()"
   ]
  },
  {
   "cell_type": "code",
   "execution_count": 15,
   "id": "456fa953",
   "metadata": {},
   "outputs": [],
   "source": [
    "from sklearn.metrics import accuracy_score\n",
    "import numpy as np"
   ]
  },
  {
   "cell_type": "code",
   "execution_count": 16,
   "id": "222a5674",
   "metadata": {},
   "outputs": [
    {
     "name": "stdout",
     "output_type": "stream",
     "text": [
      "Test score: 0.83\n"
     ]
    }
   ],
   "source": [
    "pred_test = xgb_clf.predict(X_test)\n",
    "test_score = accuracy_score(pred_test, y_test)\n",
    "print(\"Test score:\", np.round(test_score,2))"
   ]
  },
  {
   "cell_type": "code",
   "execution_count": 17,
   "id": "c635f4c9",
   "metadata": {},
   "outputs": [
    {
     "name": "stdout",
     "output_type": "stream",
     "text": [
      "Train score: 0.83\n"
     ]
    }
   ],
   "source": [
    "pred_train = xgb_clf.predict(X_train_full)\n",
    "train_score = accuracy_score(pred_train, y_train_full)\n",
    "print(\"Train score:\", np.round(train_score,2))"
   ]
  },
  {
   "cell_type": "code",
   "execution_count": 18,
   "id": "708d72a6",
   "metadata": {},
   "outputs": [],
   "source": [
    "from sklearn.linear_model import LogisticRegression\n",
    "lr = LogisticRegression(max_iter=1000)"
   ]
  },
  {
   "cell_type": "code",
   "execution_count": 19,
   "id": "f28e15a0",
   "metadata": {},
   "outputs": [
    {
     "name": "stdout",
     "output_type": "stream",
     "text": [
      "Accuracy: 0.8273866666666667\n"
     ]
    }
   ],
   "source": [
    "from sklearn.model_selection import train_test_split\n",
    "X_train, X_test, y_train, y_test = train_test_split(X, y, test_size=0.3, random_state=42)\n",
    "lr.fit(X_train, y_train)\n",
    "print(\"Accuracy:\", lr.score(X_test, y_test))"
   ]
  },
  {
   "cell_type": "code",
   "execution_count": null,
   "id": "90f96783",
   "metadata": {},
   "outputs": [],
   "source": []
  }
 ],
 "metadata": {
  "kernelspec": {
   "display_name": "Python 3 (ipykernel)",
   "language": "python",
   "name": "python3"
  },
  "language_info": {
   "codemirror_mode": {
    "name": "ipython",
    "version": 3
   },
   "file_extension": ".py",
   "mimetype": "text/x-python",
   "name": "python",
   "nbconvert_exporter": "python",
   "pygments_lexer": "ipython3",
   "version": "3.9.19"
  }
 },
 "nbformat": 4,
 "nbformat_minor": 5
}
